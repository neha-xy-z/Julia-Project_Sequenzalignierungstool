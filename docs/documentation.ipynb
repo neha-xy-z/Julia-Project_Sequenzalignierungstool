{
 "cells": [
  {
   "cell_type": "markdown",
   "metadata": {},
   "source": [
    "# Dokumentation\n",
    "Autoren:\n",
    "Al-Juboori, Faisal;\n",
    "Kandhari, Neha;\n",
    "Li, Huijie"
   ]
  },
  {
   "cell_type": "markdown",
   "metadata": {},
   "source": [
    "Dies ist eine Dokumentation von Funtionen, die für das Projekt für das Modul \"BI2024 Einführung in die Programmiersprache Julia WiSe21/22\", welches sich mit einem Sequenzalignierungstool (für RNA-Seq-Data) mit Referenzgenom inklusive Read-Aufbereitung beschäftigt, bzw. für die File \"ProjektJulia.jl\" verwendet worden sind."
   ]
  },
  {
   "cell_type": "markdown",
   "metadata": {},
   "source": [
    "Module die verwendet wurden:"
   ]
  },
  {
   "cell_type": "code",
   "execution_count": null,
   "metadata": {},
   "outputs": [],
   "source": [
    "# Needed Modules\n",
    "using FASTX\n",
    "using ZipFile"
   ]
  },
  {
   "cell_type": "markdown",
   "metadata": {},
   "source": [
    "Um die Dateien richtig einzulesen und zuzuordnen, werden je nach Betriebssystem die Pfade gespeichert."
   ]
  },
  {
   "cell_type": "code",
   "execution_count": null,
   "metadata": {},
   "outputs": [],
   "source": [
    "# Set Path\n",
    "function get_path_variable(file_path::String)\n",
    "\n",
    "    if Sys.islinux()\n",
    "        file_fastx = string(split(file_path, \"/\")[end])     # xxx.fastq\n",
    "        file_name = string(split(file_fastx, \".\")[1])       # xxx\n",
    "        work_path = string(replace(file_path, \"/\"*file_fastx => \"\"))    # xx/xx/xx\n",
    "    else\n",
    "        file_fastx = string(split(file_path, \"\\\\\")[end])\n",
    "        file_name = string(split(file_fastx, \".\")[1])\n",
    "        work_path = string(replace(file_path, \"\\\\\"*file_fastx => \"\"))\n",
    "    end\n",
    "    return file_name, work_path\n",
    "end"
   ]
  },
  {
   "cell_type": "markdown",
   "metadata": {},
   "source": [
    "Die Funktion `setPathToSoftwareForWindows()` ist nur für Windows und auch nur dann verwendbar, wenn der gesamte Ordner aus Gitlab genau in dem Format heruntergeladen wird."
   ]
  },
  {
   "cell_type": "code",
   "execution_count": null,
   "metadata": {},
   "outputs": [],
   "source": [
    "# Set Path to used Softwares for Windows   \n",
    "function setPathToSoftwareForWindows()\n",
    "    curr_dir = pwd()\n",
    "    curr_dir = replace(curr_dir, \"\\\\src\" => \"\")\n",
    "\n",
    "    path_to_cutadapt = curr_dir*\"\\\\cutadapt\"\n",
    "    path_to_fastqc = curr_dir*\"\\\\fastqc\\\\FastQC\"\n",
    "    path_to_vsearch = curr_dir*\"\\\\vsearch\\\\vsearch\\\\bin\"\n",
    "   \n",
    "    return path_to_cutadapt, path_to_fastqc, path_to_vsearch\n",
    "end"
   ]
  },
  {
   "cell_type": "markdown",
   "metadata": {},
   "source": [
    "Verwendung von FastQC um mit _Overrepresented Sequences_ eine mögliche Source einer Adaptersequenz einlesen zu können.\n",
    "`fastqcUnix(input_file::String)` bzw. `fastqcWindows(input_fastqc_path::String, input_path::String)`\n",
    "Nach dieser Funktion wird ein Zip-Archive ausgegeben."
   ]
  },
  {
   "cell_type": "code",
   "execution_count": null,
   "metadata": {},
   "outputs": [],
   "source": [
    "# FastQC Unix Function\n",
    "function fastqcUnix(input_file::String)\n",
    "    run(`fastqc $input_file`)\n",
    "end\n",
    "\n",
    "# FastQC Windows Function\n",
    "function fastqcWindows(input_fastqc_path::String, input_path::String)\n",
    "    cd(input_fastqc_path)\n",
    "    run(`java -Xmx250m -classpath .\";\"./sam-1.103.jar\";\"./jbzip2-0.9.jar uk.ac.babraham.FastQC.FastQCApplication $input_path`)\n",
    "    curr_dir = replace(input_fastqc_path, \"\\\\fastqc\\\\FastQC\" => \"\")\n",
    "    cd(curr_dir*\"\\\\src\")\n",
    "end"
   ]
  },
  {
   "cell_type": "markdown",
   "metadata": {},
   "source": [
    "Anschließend wird durch die Ausgabe aus der vorherigen Funktion in die function `cutadaptUnix(adapter_seqs_str::String, input_file::String)` bzw `cutadaptWindows(input_cutadapt_path::String, adapter_seqs_str::String, file_fastx::String)` als Parameter, zusammen mit dem File-Input und einer selbstbestimmten Output-Datei, übergeben.\n",
    "Mit dieser Funktion werden mittels Cutadapt die Adaptersequenz aus dem File-Input entfernt."
   ]
  },
  {
   "cell_type": "code",
   "execution_count": null,
   "metadata": {},
   "outputs": [],
   "source": [
    "# Cutadapt Run for Linux\n",
    "function cutadaptUnix(adapter_seqs_str::String, input_file::String)\n",
    "    run(`cutadapt -j 0 $adapter_seqs_str -o without_adapters.fastq $input_file`)\n",
    "end\n",
    "\n",
    "# Cutadapt Run for Windows\n",
    "function cutadaptWindows(input_cutadapt_path::String, adapter_seqs_str::String, file_fastx::String)\n",
    "    cd(input_cutadapt_path)\n",
    "    run(`cutadapt-3.4.exe $adapter_seqs_str -o without_adapters.fastq $file_fastx`) # Windows\n",
    "    curr_dir = replace(input_cutadapt_path, \"\\\\cutadapt\" => \"\")\n",
    "    cd(curr_dir*\"\\\\src\")\n",
    "end "
   ]
  },
  {
   "cell_type": "markdown",
   "metadata": {},
   "source": [
    "Mit `read_adapter(fastqc_result_path::String)` werden die Adapter aus dem Zip-Archiv und dem produzierten Datei _fastqc_data.txt_ durch FastQC gelesen."
   ]
  },
  {
   "cell_type": "code",
   "execution_count": null,
   "metadata": {},
   "outputs": [],
   "source": [
    "# Function for reading adapter from FastQC File\n",
    "function read_adapter(fastqc_result_path::String)\n",
    "            \n",
    "    global fastqc_res = ZipFile.Reader(fastqc_result_path)\n",
    "\n",
    "    flag = false\n",
    "    seqs = String[]\n",
    "    counts = String[]\n",
    "    percentages = String[]\n",
    "    sources = String[]\n",
    "    adapter_seq_str = \"\"\n",
    "\n",
    "    for file in fastqc_res.files\n",
    "        if contains(file.name, \"fastqc_data.txt\")\n",
    "            for line in eachline(file)\n",
    "                if contains(line, \">>Overrepresented\")\n",
    "                    flag = true\n",
    "                    continue\n",
    "                end\n",
    "\n",
    "                if flag == true && contains(line, \">>END_MODULE\")\n",
    "                    flag = false\n",
    "                    break\n",
    "                end\n",
    "\n",
    "                if flag && !contains(line, \"#\")\n",
    "                    seq, count, percentage, source = split(line, \"\\t\")\n",
    "                    if string(source) != \"No Hit\"\n",
    "                        push!(seqs, seq)\n",
    "                        push!(counts, count)\n",
    "                        push!(percentages, percentage)\n",
    "                        push!(sources, source)\n",
    "                    end\n",
    "                end\n",
    "            end\n",
    "        end\n",
    "    end \n",
    "\n",
    "    if length(seqs) == 0\n",
    "        #TODO\n",
    "        adapter_seq_str = \"no adapter seq\"\n",
    "    else\n",
    "\n",
    "        for adapter_seq in seqs\n",
    "            adapter_seq_str *= \"-a $adapter_seq \"\n",
    "        end\n",
    "    end\n",
    "\n",
    "    return seqs, sources, string(strip(adapter_seq_str))\n",
    "end"
   ]
  },
  {
   "cell_type": "markdown",
   "metadata": {},
   "source": [
    "Die Funktion `communication()`nimmt den Großteil der Kommunikation mit dem User ein. Hierbei wird nach der Datei und der Verwendung von FastQC gefragt bzw. ob der User ein individuellen Adapter eintippen möchte. Außerdem werden dann die Adapter mit den Funktionen von `cutadaptUnix()`bzw. `cutadaptWindows()`(Siehe oben) entfernt."
   ]
  },
  {
   "cell_type": "code",
   "execution_count": null,
   "metadata": {},
   "outputs": [],
   "source": [
    "# FastQC and Cutadapt Run for different OS Linux, Windows\n",
    "function communication()\n",
    "    org_fastq_file_path = \"\"\n",
    "    work_path = \"\"\n",
    "    file_name = \"\"\n",
    "\n",
    "    while true\n",
    "        print(\"\\nEnter path of your FASTQ file. Or type 'q' to quit.\\n>>> \")\n",
    "\n",
    "        input = string(strip(readline()))\n",
    "        if input == \"q\"\n",
    "            println(\"Bye.\")\n",
    "            exit()\n",
    "        elseif isfile(input)\n",
    "            if endswith(input, \".fastq\")\n",
    "                org_fastq_file_path = input\n",
    "                break\n",
    "            else\n",
    "                println(\"ERROR:\\nFile input is not a FASTQ File. Check your path again.\")\n",
    "            end\n",
    "        else\n",
    "            println(\"ERROR:\\nFile not found. Check your path again and enter on request.\")\n",
    "        end\n",
    "    end\n",
    "\n",
    "    # \n",
    "    file_name, work_path = get_path_variable(org_fastq_file_path)\n",
    "\n",
    "    cd(work_path)\n",
    "\n",
    "    while true \n",
    "        print(\"\\nDo you want to run FastQC to get a possible Source for an Adapter Sequence, which could be found in your input-file?\n",
    "                 \\nIf yes, type 'y'.\n",
    "                 \\nIf no, type 'n'. Then you can enter an individual Adapter sequence afterwards on request.\n",
    "                 \\nOr type 'q' to quit.\n",
    "                 \\n>>> \")\n",
    "\n",
    "        input = readline()\n",
    "\n",
    "        if input == \"q\"\n",
    "            println(\"Bye.\")\n",
    "            exit()\n",
    "\n",
    "        elseif input == \"y\"\n",
    "        \n",
    "            if Sys.islinux()\n",
    "                # FastQC Run for OS Linux\n",
    "                fastqcUnix(file_name*\".fastq\")\n",
    "            else \n",
    "                # FastQC Run for Windows\n",
    "                fastqcWindows(path_to_fastqc, org_fastq_file_path, path_to_fastqc)\n",
    "            end\n",
    "\n",
    "            println(\"\\nFastQC successful.\")\n",
    "\n",
    "            println(\"\\nReading adapter sequences...\")\n",
    "\n",
    "            if Sys.islinux()\n",
    "                adapter_seqs, adapter_sources, adapter_seq_str = read_adapter(file_name*\"_fastqc.zip\")\n",
    "            else\n",
    "                adapter_seqs, adapter_sources, adapter_seq_str = read_adapter(work_path*\"\\\\\"*file_name*\"_fastqc.zip\")\n",
    "            end\n",
    "            \n",
    "            println(\"Adapters found:\")\n",
    "\n",
    "            if startswith(adapter_seq_str, \"no\")\n",
    "                println(\"\\t\"*adapter_seq_str)\n",
    "                break\n",
    "            else\n",
    "                for i = 1 : length(adapter_seqs)\n",
    "                    println(adapter_seqs[i], adapter_sources[i])\n",
    "                end\n",
    "\n",
    "                # Run Cutadapt\n",
    "                if Sys.islinux()\n",
    "                    cutadaptUnix(adapter_seq_str, file_name*\".fastq\")\n",
    "                    break\n",
    "                else\n",
    "                    #  Windows\n",
    "                    cutadaptWindows(path_to_cutadapt, adapter_seq_str, work_path*\"\\\\\"*file_name*\".fastq\")\n",
    "                    break\n",
    "                end\n",
    "            end\n",
    "\n",
    "        elseif input == \"n\"\n",
    "            print(\"\\nPlease type in your adapter sequence:\\n>>> \")\n",
    "\n",
    "            adapter_seq = readline()\n",
    "\n",
    "            if contains(adapter_seq, r\"[^atcgATCG]\")\n",
    "                println(\"\\n warning check again\")\n",
    "            else\n",
    "                # Run Cutadapt\n",
    "                if Sys.islinux()\n",
    "                    cutadaptUnix(\"-a \"*adapter_seq, file_name*\".fastq\")\n",
    "                    break\n",
    "                else\n",
    "                    cutadaptWindows(path_to_cutadapt, adapter_seq_str, work_path*\"\\\\\"*file_name*\".fastq\")\n",
    "                    break\n",
    "                end\n",
    "            end\n",
    "\n",
    "        else\n",
    "            println(\"ERROR:\\nWrong input.\")\n",
    "        end\n",
    "    end\n",
    "end"
   ]
  },
  {
   "cell_type": "markdown",
   "metadata": {},
   "source": [
    "`readFastq(input_file::String)` benötigt die Eingabe der Datei aus cutadapt im FASTQ Format."
   ]
  },
  {
   "cell_type": "code",
   "execution_count": null,
   "metadata": {},
   "outputs": [],
   "source": [
    "# Read adapterfree fastq File and store into records\n",
    "function readFastq(input_file::String)\n",
    "    # println(\"Reading file without adapters...\")\n",
    "    reader = FASTQ.Reader(open(input_file, \"r\"))\n",
    "    records = []\n",
    "    for record in reader\n",
    "        push!(records, record)\n",
    "    end\n",
    "    close(reader)\n",
    "    return records\n",
    "end"
   ]
  },
  {
   "cell_type": "markdown",
   "metadata": {},
   "source": [
    "`readFastq(input_file::String)` benötigt die Eingabe der Datei aus VSearch im FASTA Format."
   ]
  },
  {
   "cell_type": "code",
   "execution_count": null,
   "metadata": {},
   "outputs": [],
   "source": [
    "# Read adapterfree fastq File and store into records\n",
    "function readFasta(input_file::String)\n",
    "    reader = FASTA.Reader(open(input_file, \"r\"))\n",
    "    records = []\n",
    "    for record in reader\n",
    "        push!(records, record)\n",
    "    end\n",
    "    close(reader)\n",
    "    return records\n",
    "end"
   ]
  },
  {
   "cell_type": "markdown",
   "metadata": {},
   "source": [
    "Sobald records in eine Liste bzw. in einem Array gespeichert werden, wird der Arbeitsspeicher belastet. Mit der Funktion `free_memory(variable::Any)` wird der Speicher wieder freigestetzt."
   ]
  },
  {
   "cell_type": "code",
   "execution_count": null,
   "metadata": {},
   "outputs": [],
   "source": [
    "# Collect garbage and free memory \n",
    "function free_memory(variable::Any)\n",
    "    empty!(variable)\n",
    "    GC.gc()\n",
    "end"
   ]
  },
  {
   "cell_type": "markdown",
   "metadata": {},
   "source": [
    "Mit `getParamForTrimming()`wird nach dem Threshold für das Trimming gefragt, es darf nur 1 von den 3 Sizes (3, 4, 5) akzeptiert werden."
   ]
  },
  {
   "cell_type": "code",
   "execution_count": null,
   "metadata": {},
   "outputs": [],
   "source": [
    "# Get threshold parameter for the trimming function\n",
    "function getParamForTrimming()\n",
    "    print(\"\\nEnter threshold for trimming (3/4/5): \\n\\n\")\n",
    "    n = parse(UInt8, readline())\n",
    "    if n==3 || n==4 || n==5\n",
    "        return n\n",
    "    else\n",
    "        print(\"You can only enter a threshold size of 3, 4 or 5. Please enter again.\")\n",
    "        getParamForTrimming()\n",
    "    end\n",
    "end"
   ]
  },
  {
   "cell_type": "markdown",
   "metadata": {},
   "source": [
    "Mit `trimming(input_file::String, input_records::Vector{Any}, threshold::UInt8, min_read_length::Int)` werden die Records getrimmt. Hierfür werden ein `input_file::String, input_records::Vector{Any}, threshold::UInt8` und `min_read_length::Int` verlangt. Ein Threshold wird aus der `getParamForTrimming()` Funktion entnommen."
   ]
  },
  {
   "cell_type": "code",
   "execution_count": null,
   "metadata": {},
   "outputs": [],
   "source": [
    "# Trimming\n",
    "function trimming(input_file::String, input_records::Vector{Any}, threshold::UInt8, min_read_length::Int)\n",
    "    \n",
    "    println(\"\\n Preparing trimming...\\n\")\n",
    "    fileName = replace(fileName, \".fastq\" => \"\")\n",
    "    fn = string(fileName)*\"_trimmed.fastq\"\n",
    "    file = FASTQ.Writer(open(\"trimmed.fastq\", \"w\"), true)\n",
    "    \n",
    "    for record in input_records\n",
    "        quality_list = quality(record)\n",
    "        seq_list = sequence(String, record)\n",
    "        count = 0\n",
    "        position = 0\n",
    "\n",
    "        # 'N' und short-reads skip\n",
    "        if length(seq_list) < min_length || contains(seq_list, 'N')\n",
    "            continue\n",
    "        end\n",
    "        \n",
    "        for base_index = 1 : length(quality_list)    \n",
    "            if Int64(quality_list[base_index]) <= 20\n",
    "                count += 1\n",
    "                if count == threshold\n",
    "                    position = base_index\n",
    "                    break\n",
    "                end\n",
    "            end\n",
    "        end\n",
    "\n",
    "        # low quality reads \n",
    "        if count == threshold \n",
    "\n",
    "            # only work with long-reads \n",
    "            if (position-threshold) >= min_length\n",
    "\n",
    "                # New Sequence with new Quality\n",
    "                new_seq = sequence(String, record, (1:position-threshold))\n",
    "                new_quality = quality(record, 33, (1:position-threshold))\n",
    "                # Get the same identifiers and description from the old Record and give it to the new Record\n",
    "                ident = identifier(record)\n",
    "                desc = description(record)\n",
    "                new_record = FASTQ.Record(ident, desc, new_seq, new_quality)\n",
    "                write(file, new_record)\n",
    "            end\n",
    "        else\n",
    "            write(file, record) \n",
    "        end\n",
    "    end\n",
    "    return trimmed_records\n",
    "    close(file)\n",
    "    free_memory(fastq_records)\n",
    "    # println(string(fn))\n",
    "    println(\"Successful.\")\n",
    "    return string(fn)\n",
    "end"
   ]
  },
  {
   "cell_type": "markdown",
   "metadata": {},
   "source": [
    "Mit `vsearchrun(input_vsearch_path::String, input_path::String)` wird nach Chimären gesucht und eine _nonchimeras.fasta_ Datei ausgegeben."
   ]
  },
  {
   "cell_type": "code",
   "execution_count": null,
   "metadata": {},
   "outputs": [],
   "source": [
    "# VSearch Run for different OS Linux, Windows\n",
    "function vsearchrun(input_vsearch_path::String, input_path::String)\n",
    "    if Sys.islinux()\n",
    "        run(`vsearch --uchime3_denovo $input_path --nonchimeras nonchimeras.fasta`)\n",
    "    else\n",
    "        cd(input_vsearch_path)\n",
    "        run(`vsearch --uchime3_denovo $input_path --nonchimeras nonchimeras.fasta`)\n",
    "        curr_dir = replace(input_vsearch_path, \"\\\\vsearch\\\\vsearch\\\\bin\" => \"\")\n",
    "        cd(curr_dir*\"\\\\src\")\n",
    "    end\n",
    "end"
   ]
  },
  {
   "cell_type": "markdown",
   "metadata": {},
   "source": [
    "Für `kmers_Histo(k, records)` und `newReads(kmersHisto, recs, t, k)` wird die Ausgabe aus `kmer_input()`, welches der User definiert, benötigt. \n"
   ]
  },
  {
   "cell_type": "code",
   "execution_count": null,
   "metadata": {},
   "outputs": [],
   "source": [
    "# Ask for kmer size input\n",
    "function kmer_input()\n",
    "    \n",
    "    println(\"\\nEnter a kmer-size:\\n\")\n",
    "    n = parse(UInt8, readline())\n",
    "    if n != UInt8\n",
    "        println(\"\\nWrong input.\\n\")\n",
    "        kmer_input()\n",
    "    else\n",
    "        return n\n",
    "    end\n",
    "end"
   ]
  },
  {
   "cell_type": "markdown",
   "metadata": {},
   "source": [
    "`kmers_Histo(k, records)` liefert eine Dictioniary, die von `newReads(kmersHisto, recs, t, k)` verwendet wird."
   ]
  },
  {
   "cell_type": "code",
   "execution_count": null,
   "metadata": {},
   "outputs": [],
   "source": [
    "# Count frequent kmers\n",
    "function kmers_Histo(k, records)\n",
    "    kmer_dict = Dict{String,Integer}()\n",
    "\n",
    "    for record in records\n",
    "        rec_seq = string(FASTA.sequence(record))\n",
    "\n",
    "        for i = 1:((length(rec_seq) - k) + 1)\n",
    "            sequence_k = rec_seq[i:((i+k)-1)]\n",
    "            if !haskey(kmer_dict, sequence_k)\n",
    "                kmer_dict[sequence_k] = 1\n",
    "            else\n",
    "                kmer_dict[sequence_k] += 1\n",
    "            end\n",
    "        end\n",
    "    end\n",
    "    return kmer_dict\n",
    "end\n"
   ]
  },
  {
   "cell_type": "markdown",
   "metadata": {},
   "source": [
    "Die Funktion `hammingDistance(kmer)` wird von `newReads(kmersHisto, recs, t, k)` aufgerufen."
   ]
  },
  {
   "cell_type": "code",
   "execution_count": null,
   "metadata": {},
   "outputs": [],
   "source": [
    "# Find neighbours from a kmer\n",
    "function hammingDistance(kmer)\n",
    "\n",
    "    alphabet = ['A','C','G','T']\n",
    "    neighbors = []\n",
    "\n",
    "    for all_pos = reverse(1:length(kmer))\n",
    "\n",
    "        for character in alphabet\n",
    "\n",
    "            new_kmer = collect(kmer)\n",
    "\n",
    "            if character != new_kmer[all_pos]\n",
    "                new_kmer[all_pos] = character\n",
    "                push!(neighbors, join(new_kmer))\n",
    "            end\n",
    "        end\n",
    "\n",
    "    end\n",
    "\n",
    "    return neighbors\n",
    "end"
   ]
  },
  {
   "cell_type": "markdown",
   "metadata": {},
   "source": [
    "`newReads(kmersHisto, recs, t, k)` erstellt eine _\"new_errorfree_reads.fasta\"_ Datei, die für Windows die zuletzt-ausgegebene Datei ist und für Linux, wäre das bei Hisat2 die eingelesene Datei."
   ]
  },
  {
   "cell_type": "code",
   "execution_count": null,
   "metadata": {},
   "outputs": [],
   "source": [
    "# Correct Reads into free-error Reads\n",
    "function newReads(kmersHisto, recs, t, k)\n",
    "\n",
    "    file = FASTA.Writer(open(\"new_errorfree_reads.fasta\", \"w\"), 1000)\n",
    "    \n",
    "    for rec in recs\n",
    "\n",
    "        seq = string(FASTA.sequence(rec))\n",
    "        n_Kmers = (length(seq) - k) + 1\n",
    "\n",
    "        for i = 1:n_Kmers\n",
    "\n",
    "            kmer = seq[i:(i+k)-1]\n",
    "\n",
    "            if haskey(kmersHisto, kmer)\n",
    "\n",
    "                if kmersHisto[kmer] < t\n",
    "\n",
    "                    all_neighbors = hammingDistance(kmer)\n",
    "\n",
    "                    for nk in all_neighbors\n",
    "                        if haskey(kmersHisto, nk)\n",
    "\n",
    "                            if kmersHisto[nk] >= t\n",
    "\n",
    "                                first_part = seq[1:i-1]\n",
    "                                kmer_part = nk\n",
    "                                second_part = seq[k+i:end]\n",
    "    \n",
    "                                new_seq = string(first_part, kmer_part, second_part)\n",
    "                                id = identifier(rec)\n",
    "    \n",
    "                                new_record = FASTA.Record(id,new_seq)\n",
    "                                write(file, new_record)\n",
    "\n",
    "                                break\n",
    "                            end\n",
    "                        end\n",
    "                    end\n",
    "                    free_memory(all_neighbors)\n",
    "                end\n",
    "            end\n",
    "        end\n",
    "    end\n",
    "    close(file)\n",
    "end "
   ]
  }
 ],
 "metadata": {
  "language_info": {
   "name": "python"
  },
  "orig_nbformat": 4
 },
 "nbformat": 4,
 "nbformat_minor": 2
}
